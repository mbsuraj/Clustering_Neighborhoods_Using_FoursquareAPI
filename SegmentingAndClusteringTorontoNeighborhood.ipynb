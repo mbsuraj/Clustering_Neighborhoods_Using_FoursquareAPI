{
  "nbformat": 4,
  "nbformat_minor": 0,
  "metadata": {
    "colab": {
      "name": "SegmentingAndClusteringNeighborhood.ipynb",
      "provenance": [],
      "collapsed_sections": [],
      "authorship_tag": "ABX9TyP/Ni3gnUqhpIKaMuxXI6+J",
      "include_colab_link": true
    },
    "kernelspec": {
      "name": "python3",
      "display_name": "Python 3"
    }
  },
  "cells": [
    {
      "cell_type": "markdown",
      "metadata": {
        "id": "view-in-github",
        "colab_type": "text"
      },
      "source": [
        "<a href=\"https://colab.research.google.com/github/mbsuraj/Coursera_Capstone/blob/master/SegmentingAndClusteringTorontoNeighborhood.ipynb\" target=\"_parent\"><img src=\"https://colab.research.google.com/assets/colab-badge.svg\" alt=\"Open In Colab\"/></a>"
      ]
    },
    {
      "cell_type": "code",
      "metadata": {
        "id": "oncYkn4698Yf",
        "colab_type": "code",
        "colab": {}
      },
      "source": [
        "import pandas as pd\n"
      ],
      "execution_count": 0,
      "outputs": []
    },
    {
      "cell_type": "code",
      "metadata": {
        "id": "fOVzl6cK-JJw",
        "colab_type": "code",
        "outputId": "d14dff34-f43e-49e2-d6fa-93c79c983dc0",
        "colab": {
          "base_uri": "https://localhost:8080/",
          "height": 411
        }
      },
      "source": [
        "wiki_url = 'https://en.wikipedia.org/wiki/List_of_postal_codes_of_Canada:_M'\n",
        "toronto_list = pd.read_html(wiki_url)\n",
        "print(toronto_list)"
      ],
      "execution_count": 2,
      "outputs": [
        {
          "output_type": "stream",
          "text": [
            "[    Postcode           Borough          Neighbourhood\n",
            "0        M1A      Not assigned           Not assigned\n",
            "1        M2A      Not assigned           Not assigned\n",
            "2        M3A        North York              Parkwoods\n",
            "3        M4A        North York       Victoria Village\n",
            "4        M5A  Downtown Toronto           Harbourfront\n",
            "..       ...               ...                    ...\n",
            "282      M8Z         Etobicoke              Mimico NW\n",
            "283      M8Z         Etobicoke     The Queensway West\n",
            "284      M8Z         Etobicoke  Royal York South West\n",
            "285      M8Z         Etobicoke         South of Bloor\n",
            "286      M9Z      Not assigned           Not assigned\n",
            "\n",
            "[287 rows x 3 columns],                                                   0   ...   17\n",
            "0                                                NaN  ...  NaN\n",
            "1  NL NS PE NB QC ON MB SK AB BC NU/NT YT A B C E...  ...  NaN\n",
            "2                                                 NL  ...   YT\n",
            "3                                                  A  ...    Y\n",
            "\n",
            "[4 rows x 18 columns],    0   1   2   3   4   5   6   7   8   9   10  11  12  13  14  15     16  17\n",
            "0  NL  NS  PE  NB  QC  QC  QC  ON  ON  ON  ON  ON  MB  SK  AB  BC  NU/NT  YT\n",
            "1   A   B   C   E   G   H   J   K   L   M   N   P   R   S   T   V      X   Y]\n"
          ],
          "name": "stdout"
        }
      ]
    },
    {
      "cell_type": "markdown",
      "metadata": {
        "id": "RJBwuidNS2x0",
        "colab_type": "text"
      },
      "source": [
        "**Lets check the data  and how it looks like.**"
      ]
    },
    {
      "cell_type": "code",
      "metadata": {
        "id": "m1yf6cVj-dSi",
        "colab_type": "code",
        "outputId": "ba169e91-a507-4890-eac9-c16abe14be4c",
        "colab": {
          "base_uri": "https://localhost:8080/",
          "height": 153
        }
      },
      "source": [
        "toronto_df = toronto_list[0]\n",
        "toronto_df.columns = ['PostalCode', 'Borough', 'Neighborhood']\n",
        "print(toronto_df.head())\n",
        "print(toronto_df.shape)\n",
        "print(toronto_df.columns)"
      ],
      "execution_count": 3,
      "outputs": [
        {
          "output_type": "stream",
          "text": [
            "  PostalCode           Borough      Neighborhood\n",
            "0        M1A      Not assigned      Not assigned\n",
            "1        M2A      Not assigned      Not assigned\n",
            "2        M3A        North York         Parkwoods\n",
            "3        M4A        North York  Victoria Village\n",
            "4        M5A  Downtown Toronto      Harbourfront\n",
            "(287, 3)\n",
            "Index(['PostalCode', 'Borough', 'Neighborhood'], dtype='object')\n"
          ],
          "name": "stdout"
        }
      ]
    },
    {
      "cell_type": "markdown",
      "metadata": {
        "id": "blxSnqFRTN0s",
        "colab_type": "text"
      },
      "source": [
        "**Removing entries with no Borough names.**"
      ]
    },
    {
      "cell_type": "code",
      "metadata": {
        "id": "pf6Y8TAQ-ura",
        "colab_type": "code",
        "outputId": "124a41f9-81cc-4d2a-abc8-29972fa1ed38",
        "colab": {
          "base_uri": "https://localhost:8080/",
          "height": 204
        }
      },
      "source": [
        "#preprocessing\n",
        "toronto_df = toronto_df[toronto_df['Borough'] != 'Not assigned']\n",
        "toronto_df.head()"
      ],
      "execution_count": 4,
      "outputs": [
        {
          "output_type": "execute_result",
          "data": {
            "text/html": [
              "<div>\n",
              "<style scoped>\n",
              "    .dataframe tbody tr th:only-of-type {\n",
              "        vertical-align: middle;\n",
              "    }\n",
              "\n",
              "    .dataframe tbody tr th {\n",
              "        vertical-align: top;\n",
              "    }\n",
              "\n",
              "    .dataframe thead th {\n",
              "        text-align: right;\n",
              "    }\n",
              "</style>\n",
              "<table border=\"1\" class=\"dataframe\">\n",
              "  <thead>\n",
              "    <tr style=\"text-align: right;\">\n",
              "      <th></th>\n",
              "      <th>PostalCode</th>\n",
              "      <th>Borough</th>\n",
              "      <th>Neighborhood</th>\n",
              "    </tr>\n",
              "  </thead>\n",
              "  <tbody>\n",
              "    <tr>\n",
              "      <th>2</th>\n",
              "      <td>M3A</td>\n",
              "      <td>North York</td>\n",
              "      <td>Parkwoods</td>\n",
              "    </tr>\n",
              "    <tr>\n",
              "      <th>3</th>\n",
              "      <td>M4A</td>\n",
              "      <td>North York</td>\n",
              "      <td>Victoria Village</td>\n",
              "    </tr>\n",
              "    <tr>\n",
              "      <th>4</th>\n",
              "      <td>M5A</td>\n",
              "      <td>Downtown Toronto</td>\n",
              "      <td>Harbourfront</td>\n",
              "    </tr>\n",
              "    <tr>\n",
              "      <th>5</th>\n",
              "      <td>M6A</td>\n",
              "      <td>North York</td>\n",
              "      <td>Lawrence Heights</td>\n",
              "    </tr>\n",
              "    <tr>\n",
              "      <th>6</th>\n",
              "      <td>M6A</td>\n",
              "      <td>North York</td>\n",
              "      <td>Lawrence Manor</td>\n",
              "    </tr>\n",
              "  </tbody>\n",
              "</table>\n",
              "</div>"
            ],
            "text/plain": [
              "  PostalCode           Borough      Neighborhood\n",
              "2        M3A        North York         Parkwoods\n",
              "3        M4A        North York  Victoria Village\n",
              "4        M5A  Downtown Toronto      Harbourfront\n",
              "5        M6A        North York  Lawrence Heights\n",
              "6        M6A        North York    Lawrence Manor"
            ]
          },
          "metadata": {
            "tags": []
          },
          "execution_count": 4
        }
      ]
    },
    {
      "cell_type": "code",
      "metadata": {
        "id": "HhaDf90XA0oo",
        "colab_type": "code",
        "outputId": "c033842c-82b5-4cfb-b7cd-ea0d8ebb9bb6",
        "colab": {
          "base_uri": "https://localhost:8080/",
          "height": 309
        }
      },
      "source": [
        "# sorting the rows for ease of coding.\n",
        "toronto_df.sort_values('PostalCode', axis = 0, inplace = True)\n",
        "toronto_df.reset_index(inplace = True, drop = True)\n",
        "toronto_df.head()"
      ],
      "execution_count": 5,
      "outputs": [
        {
          "output_type": "stream",
          "text": [
            "/usr/local/lib/python3.6/dist-packages/ipykernel_launcher.py:1: SettingWithCopyWarning: \n",
            "A value is trying to be set on a copy of a slice from a DataFrame\n",
            "\n",
            "See the caveats in the documentation: http://pandas.pydata.org/pandas-docs/stable/user_guide/indexing.html#returning-a-view-versus-a-copy\n",
            "  \"\"\"Entry point for launching an IPython kernel.\n"
          ],
          "name": "stderr"
        },
        {
          "output_type": "execute_result",
          "data": {
            "text/html": [
              "<div>\n",
              "<style scoped>\n",
              "    .dataframe tbody tr th:only-of-type {\n",
              "        vertical-align: middle;\n",
              "    }\n",
              "\n",
              "    .dataframe tbody tr th {\n",
              "        vertical-align: top;\n",
              "    }\n",
              "\n",
              "    .dataframe thead th {\n",
              "        text-align: right;\n",
              "    }\n",
              "</style>\n",
              "<table border=\"1\" class=\"dataframe\">\n",
              "  <thead>\n",
              "    <tr style=\"text-align: right;\">\n",
              "      <th></th>\n",
              "      <th>PostalCode</th>\n",
              "      <th>Borough</th>\n",
              "      <th>Neighborhood</th>\n",
              "    </tr>\n",
              "  </thead>\n",
              "  <tbody>\n",
              "    <tr>\n",
              "      <th>0</th>\n",
              "      <td>M1B</td>\n",
              "      <td>Scarborough</td>\n",
              "      <td>Rouge</td>\n",
              "    </tr>\n",
              "    <tr>\n",
              "      <th>1</th>\n",
              "      <td>M1B</td>\n",
              "      <td>Scarborough</td>\n",
              "      <td>Malvern</td>\n",
              "    </tr>\n",
              "    <tr>\n",
              "      <th>2</th>\n",
              "      <td>M1C</td>\n",
              "      <td>Scarborough</td>\n",
              "      <td>Port Union</td>\n",
              "    </tr>\n",
              "    <tr>\n",
              "      <th>3</th>\n",
              "      <td>M1C</td>\n",
              "      <td>Scarborough</td>\n",
              "      <td>Rouge Hill</td>\n",
              "    </tr>\n",
              "    <tr>\n",
              "      <th>4</th>\n",
              "      <td>M1C</td>\n",
              "      <td>Scarborough</td>\n",
              "      <td>Highland Creek</td>\n",
              "    </tr>\n",
              "  </tbody>\n",
              "</table>\n",
              "</div>"
            ],
            "text/plain": [
              "  PostalCode      Borough    Neighborhood\n",
              "0        M1B  Scarborough           Rouge\n",
              "1        M1B  Scarborough         Malvern\n",
              "2        M1C  Scarborough      Port Union\n",
              "3        M1C  Scarborough      Rouge Hill\n",
              "4        M1C  Scarborough  Highland Creek"
            ]
          },
          "metadata": {
            "tags": []
          },
          "execution_count": 5
        }
      ]
    },
    {
      "cell_type": "code",
      "metadata": {
        "id": "VXJDk93xqghd",
        "colab_type": "code",
        "colab": {
          "base_uri": "https://localhost:8080/",
          "height": 68
        },
        "outputId": "5a2c1c5e-7420-44a7-ce74-e60ce8ec6c35"
      },
      "source": [
        "toronto_df[toronto_df['PostalCode']=='M1B']['Neighborhood']"
      ],
      "execution_count": 6,
      "outputs": [
        {
          "output_type": "execute_result",
          "data": {
            "text/plain": [
              "0      Rouge\n",
              "1    Malvern\n",
              "Name: Neighborhood, dtype: object"
            ]
          },
          "metadata": {
            "tags": []
          },
          "execution_count": 6
        }
      ]
    },
    {
      "cell_type": "markdown",
      "metadata": {
        "id": "lr0MKdbuToVl",
        "colab_type": "text"
      },
      "source": [
        "**Modifying Neighborhood column such that the ones with same borough are displayed together.**"
      ]
    },
    {
      "cell_type": "code",
      "metadata": {
        "id": "njg0LIniEIF7",
        "colab_type": "code",
        "colab": {
          "base_uri": "https://localhost:8080/",
          "height": 1000
        },
        "outputId": "2d39248e-c634-4709-c7aa-6e6a2c5c0965"
      },
      "source": [
        "PostalCodes = toronto_df['PostalCode'].unique()\n",
        " \n",
        "toronto_df[toronto_df['PostalCode']=='M1B']['Neighborhood']\n",
        "new_dict = {}\n",
        "for code in PostalCodes:\n",
        "  lst = []\n",
        "  condition = toronto_df['PostalCode'] == code\n",
        "  common_neighborhoods = list(toronto_df[condition]['Neighborhood'])\n",
        "  lst.append(', '.join(common_neighborhoods))\n",
        "  new_dict[code] = lst[0]\n",
        "new_dict\n"
      ],
      "execution_count": 7,
      "outputs": [
        {
          "output_type": "execute_result",
          "data": {
            "text/plain": [
              "{'M1B': 'Rouge, Malvern',\n",
              " 'M1C': 'Port Union, Rouge Hill, Highland Creek',\n",
              " 'M1E': 'Guildwood, Morningside, West Hill',\n",
              " 'M1G': 'Woburn',\n",
              " 'M1H': 'Cedarbrae',\n",
              " 'M1J': 'Scarborough Village',\n",
              " 'M1K': 'East Birchmount Park, Ionview, Kennedy Park',\n",
              " 'M1L': 'Golden Mile, Oakridge, Clairlea',\n",
              " 'M1M': 'Cliffcrest, Scarborough Village West, Cliffside',\n",
              " 'M1N': 'Cliffside West, Birch Cliff',\n",
              " 'M1P': 'Wexford Heights, Dorset Park, Scarborough Town Centre',\n",
              " 'M1R': 'Maryvale, Wexford',\n",
              " 'M1S': 'Agincourt',\n",
              " 'M1T': \"Sullivan, Clarks Corners, Tam O'Shanter\",\n",
              " 'M1V': \"Steeles East, Milliken, L'Amoreaux East, Agincourt North\",\n",
              " 'M1W': \"L'Amoreaux West\",\n",
              " 'M1X': 'Upper Rouge',\n",
              " 'M2H': 'Hillcrest Village',\n",
              " 'M2J': 'Henry Farm, Fairview, Oriole',\n",
              " 'M2K': 'Bayview Village',\n",
              " 'M2L': 'Silver Hills, York Mills',\n",
              " 'M2M': 'Willowdale, Newtonbrook',\n",
              " 'M2N': 'Willowdale South',\n",
              " 'M2P': 'York Mills West',\n",
              " 'M2R': 'Willowdale West',\n",
              " 'M3A': 'Parkwoods',\n",
              " 'M3B': 'Don Mills North',\n",
              " 'M3C': 'Don Mills South, Flemingdon Park',\n",
              " 'M3H': 'Bathurst Manor, Wilson Heights, Downsview North',\n",
              " 'M3J': 'Northwood Park, York University',\n",
              " 'M3K': 'Downsview East, CFB Toronto',\n",
              " 'M3L': 'Downsview West',\n",
              " 'M3M': 'Downsview Central',\n",
              " 'M3N': 'Downsview Northwest',\n",
              " 'M4A': 'Victoria Village',\n",
              " 'M4B': 'Woodbine Gardens, Parkview Hill',\n",
              " 'M4C': 'Woodbine Heights',\n",
              " 'M4E': 'The Beaches',\n",
              " 'M4G': 'Leaside',\n",
              " 'M4H': 'Thorncliffe Park',\n",
              " 'M4J': 'East Toronto',\n",
              " 'M4K': 'Riverdale, The Danforth West',\n",
              " 'M4L': 'The Beaches West, India Bazaar',\n",
              " 'M4M': 'Studio District',\n",
              " 'M4N': 'Lawrence Park',\n",
              " 'M4P': 'Davisville North',\n",
              " 'M4R': 'North Toronto West',\n",
              " 'M4S': 'Davisville',\n",
              " 'M4T': 'Summerhill East, Moore Park',\n",
              " 'M4V': 'South Hill, Summerhill West, Rathnelly, Forest Hill SE, Deer Park',\n",
              " 'M4W': 'Rosedale',\n",
              " 'M4X': 'St. James Town, Cabbagetown',\n",
              " 'M4Y': 'Church and Wellesley',\n",
              " 'M5A': 'Harbourfront',\n",
              " 'M5B': 'Garden District, Ryerson',\n",
              " 'M5C': 'St. James Town',\n",
              " 'M5E': 'Berczy Park',\n",
              " 'M5G': 'Central Bay Street',\n",
              " 'M5H': 'Adelaide, Richmond, King',\n",
              " 'M5J': 'Harbourfront East, Union Station, Toronto Islands',\n",
              " 'M5K': 'Design Exchange, Toronto Dominion Centre',\n",
              " 'M5L': 'Commerce Court, Victoria Hotel',\n",
              " 'M5M': 'Bedford Park, Lawrence Manor East',\n",
              " 'M5N': 'Roselawn',\n",
              " 'M5P': 'Forest Hill North, Forest Hill West',\n",
              " 'M5R': 'Yorkville, The Annex, North Midtown',\n",
              " 'M5S': 'University of Toronto, Harbord',\n",
              " 'M5T': 'Kensington Market, Chinatown, Grange Park',\n",
              " 'M5V': 'King and Spadina, Railway Lands, South Niagara, CN Tower, Island airport, Harbourfront West, Bathurst Quay',\n",
              " 'M5W': 'Stn A PO Boxes 25 The Esplanade',\n",
              " 'M5X': 'Underground city, First Canadian Place',\n",
              " 'M6A': 'Lawrence Heights, Lawrence Manor',\n",
              " 'M6B': 'Glencairn',\n",
              " 'M6C': 'Humewood-Cedarvale',\n",
              " 'M6E': 'Caledonia-Fairbanks',\n",
              " 'M6G': 'Christie',\n",
              " 'M6H': 'Dufferin, Dovercourt Village',\n",
              " 'M6J': 'Little Portugal, Trinity',\n",
              " 'M6K': 'Exhibition Place, Brockton, Parkdale Village',\n",
              " 'M6L': 'Downsview, North Park, Upwood Park',\n",
              " 'M6M': 'Silverthorn, Mount Dennis, Keelesdale, Del Ray',\n",
              " 'M6N': 'The Junction North, Runnymede',\n",
              " 'M6P': 'High Park, The Junction South',\n",
              " 'M6R': 'Roncesvalles, Parkdale',\n",
              " 'M6S': 'Runnymede, Swansea',\n",
              " 'M7A': \"Queen's Park\",\n",
              " 'M7R': 'Canada Post Gateway Processing Centre',\n",
              " 'M7Y': 'Business Reply Mail Processing Centre 969 Eastern',\n",
              " 'M8V': 'Mimico South, New Toronto, Humber Bay Shores',\n",
              " 'M8W': 'Long Branch, Alderwood',\n",
              " 'M8X': 'Old Mill North, Montgomery Road, The Kingsway',\n",
              " 'M8Y': \"Old Mill South, King's Mill Park, Humber Bay, The Queensway East, Royal York South East, Sunnylea, Mimico NE, Kingsway Park South East\",\n",
              " 'M8Z': 'Kingsway Park South West, Mimico NW, The Queensway West, South of Bloor, Royal York South West',\n",
              " 'M9A': 'Not assigned',\n",
              " 'M9B': 'Cloverdale, West Deane Park, Princess Gardens, Martin Grove, Islington',\n",
              " 'M9C': 'Old Burnhamthorpe, Markland Wood, Eringate, Bloordale Gardens',\n",
              " 'M9L': 'Humber Summit',\n",
              " 'M9M': 'Humberlea, Emery',\n",
              " 'M9N': 'Weston',\n",
              " 'M9P': 'Westmount',\n",
              " 'M9R': 'Richview Gardens, Kingsview Village, St. Phillips, Martin Grove Gardens',\n",
              " 'M9V': 'Albion Gardens, Beaumond Heights, Humbergate, Jamestown, Mount Olive, South Steeles, Thistletown, Silverstone',\n",
              " 'M9W': 'Northwest'}"
            ]
          },
          "metadata": {
            "tags": []
          },
          "execution_count": 7
        }
      ]
    },
    {
      "cell_type": "code",
      "metadata": {
        "id": "Xbuzo8-m84ud",
        "colab_type": "code",
        "colab": {
          "base_uri": "https://localhost:8080/",
          "height": 204
        },
        "outputId": "66c764d5-e068-442e-e854-d91102239ad4"
      },
      "source": [
        "neighborhoods_df = pd.DataFrame(new_dict.items(), columns = ['PostalCode', 'Neighborhoods'])\n",
        "toronto_df = pd.merge(toronto_df, neighborhoods_df, how = 'outer', on = 'PostalCode')\n",
        "toronto_df.drop('Neighborhood', axis = 1, inplace =True)\n",
        "toronto_df.rename(columns = {'Neighborhoods':'Neighborhood'}, inplace = True)\n",
        "toronto_df.drop_duplicates(inplace = True)\n",
        "toronto_df.head()"
      ],
      "execution_count": 8,
      "outputs": [
        {
          "output_type": "execute_result",
          "data": {
            "text/html": [
              "<div>\n",
              "<style scoped>\n",
              "    .dataframe tbody tr th:only-of-type {\n",
              "        vertical-align: middle;\n",
              "    }\n",
              "\n",
              "    .dataframe tbody tr th {\n",
              "        vertical-align: top;\n",
              "    }\n",
              "\n",
              "    .dataframe thead th {\n",
              "        text-align: right;\n",
              "    }\n",
              "</style>\n",
              "<table border=\"1\" class=\"dataframe\">\n",
              "  <thead>\n",
              "    <tr style=\"text-align: right;\">\n",
              "      <th></th>\n",
              "      <th>PostalCode</th>\n",
              "      <th>Borough</th>\n",
              "      <th>Neighborhood</th>\n",
              "    </tr>\n",
              "  </thead>\n",
              "  <tbody>\n",
              "    <tr>\n",
              "      <th>0</th>\n",
              "      <td>M1B</td>\n",
              "      <td>Scarborough</td>\n",
              "      <td>Rouge, Malvern</td>\n",
              "    </tr>\n",
              "    <tr>\n",
              "      <th>2</th>\n",
              "      <td>M1C</td>\n",
              "      <td>Scarborough</td>\n",
              "      <td>Port Union, Rouge Hill, Highland Creek</td>\n",
              "    </tr>\n",
              "    <tr>\n",
              "      <th>5</th>\n",
              "      <td>M1E</td>\n",
              "      <td>Scarborough</td>\n",
              "      <td>Guildwood, Morningside, West Hill</td>\n",
              "    </tr>\n",
              "    <tr>\n",
              "      <th>8</th>\n",
              "      <td>M1G</td>\n",
              "      <td>Scarborough</td>\n",
              "      <td>Woburn</td>\n",
              "    </tr>\n",
              "    <tr>\n",
              "      <th>9</th>\n",
              "      <td>M1H</td>\n",
              "      <td>Scarborough</td>\n",
              "      <td>Cedarbrae</td>\n",
              "    </tr>\n",
              "  </tbody>\n",
              "</table>\n",
              "</div>"
            ],
            "text/plain": [
              "  PostalCode      Borough                            Neighborhood\n",
              "0        M1B  Scarborough                          Rouge, Malvern\n",
              "2        M1C  Scarborough  Port Union, Rouge Hill, Highland Creek\n",
              "5        M1E  Scarborough       Guildwood, Morningside, West Hill\n",
              "8        M1G  Scarborough                                  Woburn\n",
              "9        M1H  Scarborough                               Cedarbrae"
            ]
          },
          "metadata": {
            "tags": []
          },
          "execution_count": 8
        }
      ]
    },
    {
      "cell_type": "code",
      "metadata": {
        "id": "-zBb0IOqHEdI",
        "colab_type": "code",
        "colab": {
          "base_uri": "https://localhost:8080/",
          "height": 80
        },
        "outputId": "74b58fe3-1cc9-4e15-afca-8cc86254d513"
      },
      "source": [
        "#checking\n",
        "toronto_df[toronto_df['PostalCode'] == 'M5G']"
      ],
      "execution_count": 9,
      "outputs": [
        {
          "output_type": "execute_result",
          "data": {
            "text/html": [
              "<div>\n",
              "<style scoped>\n",
              "    .dataframe tbody tr th:only-of-type {\n",
              "        vertical-align: middle;\n",
              "    }\n",
              "\n",
              "    .dataframe tbody tr th {\n",
              "        vertical-align: top;\n",
              "    }\n",
              "\n",
              "    .dataframe thead th {\n",
              "        text-align: right;\n",
              "    }\n",
              "</style>\n",
              "<table border=\"1\" class=\"dataframe\">\n",
              "  <thead>\n",
              "    <tr style=\"text-align: right;\">\n",
              "      <th></th>\n",
              "      <th>PostalCode</th>\n",
              "      <th>Borough</th>\n",
              "      <th>Neighborhood</th>\n",
              "    </tr>\n",
              "  </thead>\n",
              "  <tbody>\n",
              "    <tr>\n",
              "      <th>96</th>\n",
              "      <td>M5G</td>\n",
              "      <td>Downtown Toronto</td>\n",
              "      <td>Central Bay Street</td>\n",
              "    </tr>\n",
              "  </tbody>\n",
              "</table>\n",
              "</div>"
            ],
            "text/plain": [
              "   PostalCode           Borough        Neighborhood\n",
              "96        M5G  Downtown Toronto  Central Bay Street"
            ]
          },
          "metadata": {
            "tags": []
          },
          "execution_count": 9
        }
      ]
    },
    {
      "cell_type": "markdown",
      "metadata": {
        "id": "5FnxofBmUIlW",
        "colab_type": "text"
      },
      "source": [
        "**Replacing Not assigned neighborhood with corresponing Borough**"
      ]
    },
    {
      "cell_type": "code",
      "metadata": {
        "id": "9oCdHdB_4eN2",
        "colab_type": "code",
        "colab": {
          "base_uri": "https://localhost:8080/",
          "height": 204
        },
        "outputId": "ea48227d-dd7e-4279-f78a-7055a44d023e"
      },
      "source": [
        "condition = toronto_df['Neighborhood'] == 'Not assigned'\n",
        "for i in toronto_df.index:\n",
        "  if toronto_df['Neighborhood'][i] == 'Not assigned':\n",
        "    toronto_df['Neighborhood'][i] = toronto_df.loc[i]['Borough']\n",
        "toronto_df.head()"
      ],
      "execution_count": 10,
      "outputs": [
        {
          "output_type": "execute_result",
          "data": {
            "text/html": [
              "<div>\n",
              "<style scoped>\n",
              "    .dataframe tbody tr th:only-of-type {\n",
              "        vertical-align: middle;\n",
              "    }\n",
              "\n",
              "    .dataframe tbody tr th {\n",
              "        vertical-align: top;\n",
              "    }\n",
              "\n",
              "    .dataframe thead th {\n",
              "        text-align: right;\n",
              "    }\n",
              "</style>\n",
              "<table border=\"1\" class=\"dataframe\">\n",
              "  <thead>\n",
              "    <tr style=\"text-align: right;\">\n",
              "      <th></th>\n",
              "      <th>PostalCode</th>\n",
              "      <th>Borough</th>\n",
              "      <th>Neighborhood</th>\n",
              "    </tr>\n",
              "  </thead>\n",
              "  <tbody>\n",
              "    <tr>\n",
              "      <th>0</th>\n",
              "      <td>M1B</td>\n",
              "      <td>Scarborough</td>\n",
              "      <td>Rouge, Malvern</td>\n",
              "    </tr>\n",
              "    <tr>\n",
              "      <th>2</th>\n",
              "      <td>M1C</td>\n",
              "      <td>Scarborough</td>\n",
              "      <td>Port Union, Rouge Hill, Highland Creek</td>\n",
              "    </tr>\n",
              "    <tr>\n",
              "      <th>5</th>\n",
              "      <td>M1E</td>\n",
              "      <td>Scarborough</td>\n",
              "      <td>Guildwood, Morningside, West Hill</td>\n",
              "    </tr>\n",
              "    <tr>\n",
              "      <th>8</th>\n",
              "      <td>M1G</td>\n",
              "      <td>Scarborough</td>\n",
              "      <td>Woburn</td>\n",
              "    </tr>\n",
              "    <tr>\n",
              "      <th>9</th>\n",
              "      <td>M1H</td>\n",
              "      <td>Scarborough</td>\n",
              "      <td>Cedarbrae</td>\n",
              "    </tr>\n",
              "  </tbody>\n",
              "</table>\n",
              "</div>"
            ],
            "text/plain": [
              "  PostalCode      Borough                            Neighborhood\n",
              "0        M1B  Scarborough                          Rouge, Malvern\n",
              "2        M1C  Scarborough  Port Union, Rouge Hill, Highland Creek\n",
              "5        M1E  Scarborough       Guildwood, Morningside, West Hill\n",
              "8        M1G  Scarborough                                  Woburn\n",
              "9        M1H  Scarborough                               Cedarbrae"
            ]
          },
          "metadata": {
            "tags": []
          },
          "execution_count": 10
        }
      ]
    },
    {
      "cell_type": "code",
      "metadata": {
        "id": "YpclBPZd7_eS",
        "colab_type": "code",
        "colab": {
          "base_uri": "https://localhost:8080/",
          "height": 80
        },
        "outputId": "5c4aee13-708a-47c4-f9ae-7f151f8c5ad4"
      },
      "source": [
        "#check\n",
        "condition = toronto_df['Borough'] == 'Queen\\'s Park'\n",
        "toronto_df[condition]"
      ],
      "execution_count": 11,
      "outputs": [
        {
          "output_type": "execute_result",
          "data": {
            "text/html": [
              "<div>\n",
              "<style scoped>\n",
              "    .dataframe tbody tr th:only-of-type {\n",
              "        vertical-align: middle;\n",
              "    }\n",
              "\n",
              "    .dataframe tbody tr th {\n",
              "        vertical-align: top;\n",
              "    }\n",
              "\n",
              "    .dataframe thead th {\n",
              "        text-align: right;\n",
              "    }\n",
              "</style>\n",
              "<table border=\"1\" class=\"dataframe\">\n",
              "  <thead>\n",
              "    <tr style=\"text-align: right;\">\n",
              "      <th></th>\n",
              "      <th>PostalCode</th>\n",
              "      <th>Borough</th>\n",
              "      <th>Neighborhood</th>\n",
              "    </tr>\n",
              "  </thead>\n",
              "  <tbody>\n",
              "    <tr>\n",
              "      <th>182</th>\n",
              "      <td>M9A</td>\n",
              "      <td>Queen's Park</td>\n",
              "      <td>Queen's Park</td>\n",
              "    </tr>\n",
              "  </tbody>\n",
              "</table>\n",
              "</div>"
            ],
            "text/plain": [
              "    PostalCode       Borough  Neighborhood\n",
              "182        M9A  Queen's Park  Queen's Park"
            ]
          },
          "metadata": {
            "tags": []
          },
          "execution_count": 11
        }
      ]
    },
    {
      "cell_type": "code",
      "metadata": {
        "id": "NRHsE8R55o-G",
        "colab_type": "code",
        "colab": {
          "base_uri": "https://localhost:8080/",
          "height": 34
        },
        "outputId": "9d2f6971-dd8e-47ad-acdf-3ae08cf0b154"
      },
      "source": [
        "toronto_df.shape"
      ],
      "execution_count": 14,
      "outputs": [
        {
          "output_type": "execute_result",
          "data": {
            "text/plain": [
              "(103, 3)"
            ]
          },
          "metadata": {
            "tags": []
          },
          "execution_count": 14
        }
      ]
    }
  ]
}